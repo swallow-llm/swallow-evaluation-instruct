{
 "cells": [
  {
   "cell_type": "markdown",
   "metadata": {},
   "source": [
    "Details file (`.pqt`) can be viewed as a dataframe by using pandas.\n",
    "\n",
    "You can use the following code snippet, such as for debugging."
   ]
  },
  {
   "cell_type": "code",
   "execution_count": null,
   "metadata": {},
   "outputs": [],
   "source": [
    "# Setup\n",
    "import pandas as pd\n",
    "\n",
    "detail_path = \"\"\n",
    "detail_df = pd.read_parquet(detail_path)\n",
    "detail_df.head()"
   ]
  }
 ],
 "metadata": {
  "kernelspec": {
   "display_name": ".venv_debug",
   "language": "python",
   "name": "python3"
  },
  "language_info": {
   "name": "python",
   "version": "3.11.12"
  }
 },
 "nbformat": 4,
 "nbformat_minor": 2
}
